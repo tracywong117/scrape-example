{
 "cells": [
  {
   "cell_type": "code",
   "execution_count": 163,
   "metadata": {},
   "outputs": [],
   "source": [
    "from bs4 import BeautifulSoup\n",
    "import requests\n",
    "import pandas as pd\n",
    "\n",
    "def get_table_wiki_list(url):\n",
    "    # get URL\n",
    "    wiki = requests.get(url)\n",
    "\n",
    "    # scrape webpage\n",
    "    soup = BeautifulSoup(wiki.content, 'html.parser')\n",
    "\n",
    "    table = soup.find(\"table\", class_ = \"wikitable\")\n",
    "\n",
    "    scrape_name = soup.find('h1').text\n",
    "    scrape_file_name = scrape_name + '.csv'\n",
    "\n",
    "    movie_name=[]\n",
    "    director_name=[]\n",
    "    actor_name=[]\n",
    "\n",
    "    def last_comma(s):\n",
    "        if s and s[-1]=='、':\n",
    "            return s[:-1]\n",
    "        else:\n",
    "            return s\n",
    "\n",
    "    #utilizing HTML tags for rows <tr> and elements <td> to iterate through each row of data and append data elements to their appropriate lists:\n",
    "    for row in table.findAll(\"tr\"):\n",
    "        cells = row.findAll(\"td\")\n",
    "        if len(cells)==5: \n",
    "            movie_name.append(cells[1].find(text=True))\n",
    "\n",
    "            temp = [last_comma(i.replace(\"\\n\",\"\")) for i in cells[3].find_all(text=True) if i!='、']\n",
    "            temp_2 = []\n",
    "            for i in temp:\n",
    "                if i.find('、')!=-1:\n",
    "                    temp_2 += i.split(\"、\")\n",
    "                elif i:\n",
    "                    temp_2.append(i)\n",
    "            temp_2 = [i for i in temp_2 if i]\n",
    "            director_name.append(temp_2)\n",
    "\n",
    "            temp = [last_comma(i.replace(\"\\n\",\"\")) for i in cells[4].find_all(text=True) if i!='、']\n",
    "            temp_2 = []\n",
    "            for i in temp:\n",
    "                if i.find('、')!=-1:\n",
    "                    temp_2 += i.split(\"、\")\n",
    "                elif i:\n",
    "                    temp_2.append(i)\n",
    "            temp_2 = [i for i in temp_2 if i]\n",
    "            actor_name.append(temp_2)\n",
    "\n",
    "    df=pd.DataFrame(movie_name,columns=[\"片名\"])\n",
    "    df[\"導演\"]=director_name\n",
    "    df[\"主演\"]=actor_name\n",
    "    df.to_csv(scrape_file_name)\n"
   ]
  },
  {
   "cell_type": "code",
   "execution_count": 164,
   "metadata": {},
   "outputs": [],
   "source": [
    "get_table_wiki_list('https://zh.wikipedia.org/wiki/2020年中國大陸電影作品列表')"
   ]
  }
 ],
 "metadata": {
  "kernelspec": {
   "display_name": "Python 3",
   "language": "python",
   "name": "python3"
  },
  "language_info": {
   "codemirror_mode": {
    "name": "ipython",
    "version": 3
   },
   "file_extension": ".py",
   "mimetype": "text/x-python",
   "name": "python",
   "nbconvert_exporter": "python",
   "pygments_lexer": "ipython3",
   "version": "3.10.7"
  },
  "orig_nbformat": 4,
  "vscode": {
   "interpreter": {
    "hash": "7e1998ff7f8aa20ada591c520b972326324e5ea05489af9e422744c7c09f6dad"
   }
  }
 },
 "nbformat": 4,
 "nbformat_minor": 2
}
